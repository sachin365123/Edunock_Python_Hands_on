{
  "nbformat": 4,
  "nbformat_minor": 0,
  "metadata": {
    "colab": {
      "name": "Section_1_Lesson_3_b_Date and Time.ipynb",
      "provenance": []
    },
    "kernelspec": {
      "name": "python3",
      "display_name": "Python 3"
    },
    "language_info": {
      "name": "python"
    }
  },
  "cells": [
    {
      "cell_type": "code",
      "execution_count": 4,
      "metadata": {
        "colab": {
          "base_uri": "https://localhost:8080/"
        },
        "id": "tcqD_a7SS1I6",
        "outputId": "c669a0cb-8ab0-4f43-eb22-dca473a48527"
      },
      "outputs": [
        {
          "output_type": "stream",
          "name": "stdout",
          "text": [
            "today's date is:  2022-05-22\n",
            "Date Components:  22 5 2022\n",
            "24\n"
          ]
        }
      ],
      "source": [
        "from datetime import date\n",
        "from datetime import time\n",
        "from datetime import datetime\n",
        "\n",
        "def main():\n",
        "  today=date.today()\n",
        "  print(\"today's date is: \",today)\n",
        "  print(\"Date Components: \",today.day,today.month,today.year)\n",
        "  t=today.day+2\n",
        "  print(t)\n",
        "  \n",
        "if __name__==\"__main__\":\n",
        "  main()"
      ]
    },
    {
      "cell_type": "code",
      "source": [
        "today=datetime.time(datetime.now())\n",
        "print(today)"
      ],
      "metadata": {
        "colab": {
          "base_uri": "https://localhost:8080/"
        },
        "id": "4wM2w0-bUQEa",
        "outputId": "2160a1eb-2e88-40eb-ed51-558d9561a729"
      },
      "execution_count": 5,
      "outputs": [
        {
          "output_type": "stream",
          "name": "stdout",
          "text": [
            "05:50:55.241913\n"
          ]
        }
      ]
    },
    {
      "cell_type": "code",
      "source": [
        "def main():\n",
        "  now=datetime.now()\n",
        "  print(now.strftime(\"Current year is %Y\"))\n",
        "\n",
        "if __name__==\"__main__\":\n",
        "  main()"
      ],
      "metadata": {
        "colab": {
          "base_uri": "https://localhost:8080/"
        },
        "id": "7_t4y_82UQIe",
        "outputId": "7ea1a37a-aa71-4ba1-a243-91a281536212"
      },
      "execution_count": 7,
      "outputs": [
        {
          "output_type": "stream",
          "name": "stdout",
          "text": [
            "Current year is 2022\n"
          ]
        }
      ]
    },
    {
      "cell_type": "code",
      "source": [
        "def main():\n",
        "  now=datetime.now()\n",
        "  print(now.strftime(\"Current contents are %a %d %B %Y\"))\n",
        "\n",
        "if __name__==\"__main__\":\n",
        "  main()"
      ],
      "metadata": {
        "colab": {
          "base_uri": "https://localhost:8080/"
        },
        "id": "0_p36e08UQL7",
        "outputId": "a1ff5825-975d-4654-b5ea-68b78a96a0d0"
      },
      "execution_count": 8,
      "outputs": [
        {
          "output_type": "stream",
          "name": "stdout",
          "text": [
            "Current contents are Sun 22 May 2022\n"
          ]
        }
      ]
    },
    {
      "cell_type": "code",
      "source": [
        "from datetime import timedelta\n",
        "print(timedelta(days=365,hours=5,minutes=1))"
      ],
      "metadata": {
        "colab": {
          "base_uri": "https://localhost:8080/"
        },
        "id": "rjX-QDMUUQPJ",
        "outputId": "bb5042ac-679d-4643-8c41-c1424f7f94b9"
      },
      "execution_count": 9,
      "outputs": [
        {
          "output_type": "stream",
          "name": "stdout",
          "text": [
            "365 days, 5:01:00\n"
          ]
        }
      ]
    },
    {
      "cell_type": "code",
      "source": [
        "def main():\n",
        "  now=datetime.now()\n",
        "  print(now.strftime(\"Current contents are %A %b %d %Y\"))\n",
        "\n",
        "if __name__==\"__main__\":\n",
        "  main()"
      ],
      "metadata": {
        "colab": {
          "base_uri": "https://localhost:8080/"
        },
        "id": "eS15q0e6UQSY",
        "outputId": "007aa2f5-e7c9-46f6-e70c-eb4af5c6b7af"
      },
      "execution_count": 11,
      "outputs": [
        {
          "output_type": "stream",
          "name": "stdout",
          "text": [
            "Current contents are Sunday May 22 2022\n"
          ]
        }
      ]
    },
    {
      "cell_type": "code",
      "source": [
        "now =date.today()\n",
        "print(now)"
      ],
      "metadata": {
        "colab": {
          "base_uri": "https://localhost:8080/"
        },
        "id": "_maAXs9dUQVi",
        "outputId": "dd6b83af-a6a9-4470-ad02-a87670ada670"
      },
      "execution_count": 12,
      "outputs": [
        {
          "output_type": "stream",
          "name": "stdout",
          "text": [
            "2022-05-22\n"
          ]
        }
      ]
    }
  ]
}