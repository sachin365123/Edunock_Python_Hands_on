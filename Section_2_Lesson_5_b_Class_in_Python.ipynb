{
  "nbformat": 4,
  "nbformat_minor": 0,
  "metadata": {
    "colab": {
      "name": "Section_2_Lesson_5_b_Class in Python.ipynb",
      "provenance": []
    },
    "kernelspec": {
      "name": "python3",
      "display_name": "Python 3"
    },
    "language_info": {
      "name": "python"
    }
  },
  "cells": [
    {
      "cell_type": "code",
      "execution_count": 2,
      "metadata": {
        "colab": {
          "base_uri": "https://localhost:8080/"
        },
        "id": "jU0wgL8_Nv9e",
        "outputId": "eb53b227-30bf-4842-d51b-1a553b1d72e1"
      },
      "outputs": [
        {
          "output_type": "stream",
          "name": "stdout",
          "text": [
            "My second method here.... Edunock \n",
            "My first method here...\n"
          ]
        }
      ],
      "source": [
        "class myClass():\n",
        "  def method1(self):\n",
        "    print(\"My first method here...\")\n",
        "  def method2(self, someString):\n",
        "    print(\"My second method here....\"+someString)\n",
        "\n",
        "def main():\n",
        "  c=myClass()\n",
        "  \n",
        "  c.method2(\" Edunock \")\n",
        "  c.method1()\n",
        "\n",
        "if __name__==\"__main__\":\n",
        "  main()"
      ]
    },
    {
      "cell_type": "code",
      "source": [
        "#Inheritance in class syntax\n",
        "class myClass():\n",
        "  def method1(self):\n",
        "    print(\"My first method here...\")\n",
        "  def method2(self, someString):\n",
        "    print(\"My second method here....\"+someString)\n",
        "\n",
        "class anotherClass(myClass):\n",
        "  def method1(self):\n",
        "    myClass.method1(self)\n",
        "    print(\"My third method here....\")\n",
        "\n",
        "  def method2(self,someString):\n",
        "    print(\"My forth method here....\"+someString)\n",
        "\n",
        "\n",
        "\n",
        "def main():\n",
        "  c=anotherClass()\n",
        "  # c=myClass()\n",
        "  c.method2(\" Edunock \")\n",
        "  c.method1()\n",
        "  c.method2(\" Python \")\n",
        "  c.method1()\n",
        "\n",
        "if __name__==\"__main__\":\n",
        "  main()"
      ],
      "metadata": {
        "colab": {
          "base_uri": "https://localhost:8080/"
        },
        "id": "hKeQJShTPp87",
        "outputId": "1b9b8ac6-95c8-434f-a04d-092f22609673"
      },
      "execution_count": 3,
      "outputs": [
        {
          "output_type": "stream",
          "name": "stdout",
          "text": [
            "My forth method here.... Edunock \n",
            "My first method here...\n",
            "My third method here....\n",
            "My forth method here.... Python \n",
            "My first method here...\n",
            "My third method here....\n"
          ]
        }
      ]
    },
    {
      "cell_type": "code",
      "source": [
        ""
      ],
      "metadata": {
        "id": "pS3XUyozPqAo"
      },
      "execution_count": null,
      "outputs": []
    },
    {
      "cell_type": "code",
      "source": [
        ""
      ],
      "metadata": {
        "id": "xf_4K44FPqDf"
      },
      "execution_count": null,
      "outputs": []
    },
    {
      "cell_type": "code",
      "source": [
        ""
      ],
      "metadata": {
        "id": "gFpCduQXPqHE"
      },
      "execution_count": null,
      "outputs": []
    },
    {
      "cell_type": "code",
      "source": [
        ""
      ],
      "metadata": {
        "id": "2inbFVcSPqJ_"
      },
      "execution_count": null,
      "outputs": []
    }
  ]
}