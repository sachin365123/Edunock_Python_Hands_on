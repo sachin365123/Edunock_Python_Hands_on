{
  "nbformat": 4,
  "nbformat_minor": 0,
  "metadata": {
    "colab": {
      "name": "Section_2_Lesson_5_b_function in python.ipynb",
      "provenance": []
    },
    "kernelspec": {
      "name": "python3",
      "display_name": "Python 3"
    },
    "language_info": {
      "name": "python"
    }
  },
  "cells": [
    {
      "cell_type": "code",
      "execution_count": 1,
      "metadata": {
        "id": "nOAxzfuR7C7R",
        "colab": {
          "base_uri": "https://localhost:8080/"
        },
        "outputId": "f178163e-698e-41d9-de90-cb985c916042"
      },
      "outputs": [
        {
          "output_type": "stream",
          "name": "stdout",
          "text": [
            "0\n"
          ]
        }
      ],
      "source": [
        "f=0\n",
        "print(f)"
      ]
    },
    {
      "cell_type": "code",
      "source": [
        "p=\"Edunock\"\n",
        "print(p)\n"
      ],
      "metadata": {
        "colab": {
          "base_uri": "https://localhost:8080/"
        },
        "id": "_95mtMJbDGjY",
        "outputId": "35f7fd38-fa32-4495-83b6-bc75fa4706ad"
      },
      "execution_count": 2,
      "outputs": [
        {
          "output_type": "stream",
          "name": "stdout",
          "text": [
            "Edunock\n"
          ]
        }
      ]
    },
    {
      "cell_type": "code",
      "source": [
        "print(\"Welcome to \"+p)"
      ],
      "metadata": {
        "colab": {
          "base_uri": "https://localhost:8080/"
        },
        "id": "u3rzg3EaDHIS",
        "outputId": "557885ef-d769-4104-9a6a-6c7afaa611f9"
      },
      "execution_count": 3,
      "outputs": [
        {
          "output_type": "stream",
          "name": "stdout",
          "text": [
            "Welcome to Edunock\n"
          ]
        }
      ]
    },
    {
      "cell_type": "code",
      "source": [
        "print(\"Chpater no \"+str(12)+\" in \"+p)"
      ],
      "metadata": {
        "colab": {
          "base_uri": "https://localhost:8080/"
        },
        "id": "sZUx2YI5DHL7",
        "outputId": "2a97c418-6079-4bae-83a2-8179345bf2a7"
      },
      "execution_count": 4,
      "outputs": [
        {
          "output_type": "stream",
          "name": "stdout",
          "text": [
            "Chpater no 12 in Edunock\n"
          ]
        }
      ]
    },
    {
      "cell_type": "code",
      "source": [
        "def someFunction():\n",
        "  t=\"Welcome to Python code\"\n",
        "  print(t)\n",
        "\n",
        "someFunction() #called function"
      ],
      "metadata": {
        "colab": {
          "base_uri": "https://localhost:8080/"
        },
        "id": "yZEp8r9DDHPF",
        "outputId": "60ed32ee-47cd-46cd-840d-ea9f4e52ef78"
      },
      "execution_count": 5,
      "outputs": [
        {
          "output_type": "stream",
          "name": "stdout",
          "text": [
            "Welcome to Python code\n"
          ]
        }
      ]
    },
    {
      "cell_type": "code",
      "source": [
        "def someFunction():\n",
        "  t=\"Welcome to Python code\"\n",
        "  global c\n",
        "  c=5+12\n",
        "  print(t,c)\n",
        "\n",
        "someFunction() #called function\n",
        "print(c)"
      ],
      "metadata": {
        "colab": {
          "base_uri": "https://localhost:8080/"
        },
        "id": "nF97dFpnEBKL",
        "outputId": "ec604894-90f6-4885-ef68-b58c6850f220"
      },
      "execution_count": 9,
      "outputs": [
        {
          "output_type": "stream",
          "name": "stdout",
          "text": [
            "Welcome to Python code 17\n",
            "17\n"
          ]
        }
      ]
    },
    {
      "cell_type": "code",
      "source": [
        "def funct2(arg1,arg2):\n",
        "  print(arg1,\"I am learning Python \",arg2)\n",
        "\n",
        "def cube(x):\n",
        "  return x*x*x\n",
        "\n",
        "funct2(10,20)\n",
        "print(funct2(5,8))\n",
        "print(cube(5))"
      ],
      "metadata": {
        "colab": {
          "base_uri": "https://localhost:8080/"
        },
        "id": "9wsQu-E6DHSk",
        "outputId": "3f9d440d-3b23-4a68-f373-272c80819fcd"
      },
      "execution_count": 10,
      "outputs": [
        {
          "output_type": "stream",
          "name": "stdout",
          "text": [
            "10 I am learning Python  20\n",
            "5 I am learning Python  8\n",
            "None\n",
            "125\n"
          ]
        }
      ]
    },
    {
      "cell_type": "code",
      "source": [
        "def power(num,x=1):\n",
        "  result=1\n",
        "  for i in range(x):\n",
        "    result=result*num\n",
        "  return result\n",
        "\n",
        "print(power(3))\n",
        "print(power(2,4))"
      ],
      "metadata": {
        "colab": {
          "base_uri": "https://localhost:8080/"
        },
        "id": "bLMgEHprDHVT",
        "outputId": "a0041ce5-fa0e-484c-9d15-b8a95014b19e"
      },
      "execution_count": 11,
      "outputs": [
        {
          "output_type": "stream",
          "name": "stdout",
          "text": [
            "3\n",
            "16\n"
          ]
        }
      ]
    },
    {
      "cell_type": "code",
      "source": [
        "#Pass array to function\n",
        "\n",
        "def multi_add(*args):\n",
        "  result=0\n",
        "  for x in args:\n",
        "    result=result+x\n",
        "  return result\n",
        "\n",
        "print(multi_add(40,50,100,200))"
      ],
      "metadata": {
        "colab": {
          "base_uri": "https://localhost:8080/"
        },
        "id": "_42kLyFFDHYV",
        "outputId": "84c49798-9e24-424c-a66b-f3be482e31ce"
      },
      "execution_count": 12,
      "outputs": [
        {
          "output_type": "stream",
          "name": "stdout",
          "text": [
            "390\n"
          ]
        }
      ]
    },
    {
      "cell_type": "code",
      "source": [
        "# if else in function\n",
        "\n",
        "def main():\n",
        "  x,y=10,100\n",
        "  if(x<y):\n",
        "    st=\"x is less than y\"\n",
        "  else:\n",
        "    st=\"x is greater than or equal to y\"\n",
        "  print(st)"
      ],
      "metadata": {
        "id": "Qtgyo835GQhI"
      },
      "execution_count": 13,
      "outputs": []
    },
    {
      "cell_type": "code",
      "source": [
        "if __name__==\"__main__\":\n",
        "  main()"
      ],
      "metadata": {
        "colab": {
          "base_uri": "https://localhost:8080/"
        },
        "id": "Z0SGJ_XeGQkE",
        "outputId": "84332390-137b-4676-c85d-7681d7e3a566"
      },
      "execution_count": 14,
      "outputs": [
        {
          "output_type": "stream",
          "name": "stdout",
          "text": [
            "x is less than y\n"
          ]
        }
      ]
    },
    {
      "cell_type": "code",
      "source": [
        "def main():\n",
        "  x=0\n",
        "  while x<5:\n",
        "    print(x)\n",
        "    x=x+1"
      ],
      "metadata": {
        "id": "Y3vaJDiAGQnj"
      },
      "execution_count": 15,
      "outputs": []
    },
    {
      "cell_type": "code",
      "source": [
        "if __name__==\"__main__\":\n",
        "  main()"
      ],
      "metadata": {
        "colab": {
          "base_uri": "https://localhost:8080/"
        },
        "id": "0B_oXonfGQqs",
        "outputId": "a9f9af0b-f1ea-4c6d-c1ef-cf0837df13cb"
      },
      "execution_count": 17,
      "outputs": [
        {
          "output_type": "stream",
          "name": "stdout",
          "text": [
            "0\n",
            "1\n",
            "2\n",
            "3\n",
            "4\n"
          ]
        }
      ]
    },
    {
      "cell_type": "code",
      "source": [
        ""
      ],
      "metadata": {
        "id": "SJSNBWYwGQtC"
      },
      "execution_count": null,
      "outputs": []
    },
    {
      "cell_type": "code",
      "source": [
        ""
      ],
      "metadata": {
        "id": "NJxtJOmmGQv0"
      },
      "execution_count": null,
      "outputs": []
    },
    {
      "cell_type": "code",
      "source": [
        ""
      ],
      "metadata": {
        "id": "8IYRJHPMGQy0"
      },
      "execution_count": null,
      "outputs": []
    },
    {
      "cell_type": "code",
      "source": [
        ""
      ],
      "metadata": {
        "id": "sO9Jy12dDHcM"
      },
      "execution_count": null,
      "outputs": []
    }
  ]
}